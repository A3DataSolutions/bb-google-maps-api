{
 "cells": [
  {
   "cell_type": "code",
   "execution_count": 1,
   "metadata": {},
   "outputs": [],
   "source": [
    "opt_params = [\"components\",\"language\", \"location\", \"location_bias\", \"location_restriction\", \"offset\", \"origin\", \"radius\", \"region\", \"session_token\", \"strict_bounds\",\"types\"]"
   ]
  },
  {
   "cell_type": "code",
   "execution_count": 4,
   "metadata": {},
   "outputs": [
    {
     "name": "stdout",
     "output_type": "stream",
     "text": [
      "{'components': {'display': 'Components', 'type': 'string', 'required': False}, 'language': {'display': 'Language', 'type': 'string', 'required': False}, 'location': {'display': 'Location', 'type': 'string', 'required': False}, 'locationbias': {'display': 'Locationbias', 'type': 'string', 'required': False}, 'locationrestriction': {'display': 'Locationrestriction', 'type': 'string', 'required': False}, 'offset': {'display': 'Offset', 'type': 'string', 'required': False}, 'origin': {'display': 'Origin', 'type': 'string', 'required': False}, 'radius': {'display': 'Radius', 'type': 'string', 'required': False}, 'region': {'display': 'Region', 'type': 'string', 'required': False}, 'sessiontoken': {'display': 'Sessiontoken', 'type': 'string', 'required': False}, 'strictbounds': {'display': 'Strictbounds', 'type': 'string', 'required': False}, 'types': {'display': 'Types', 'type': 'string', 'required': False}}\n"
     ]
    }
   ],
   "source": [
    "new_list = {}\n",
    "for param in opt_params:\n",
    "    new_list.update({param.replace(\"_\",\"\"):{\"display\": param.replace(\"_\",\" \").title(),\n",
    "            \"type\": \"string\",\n",
    "            \"required\": False}})\n",
    "    \n",
    "print(new_list)"
   ]
  },
  {
   "cell_type": "code",
   "execution_count": null,
   "metadata": {},
   "outputs": [],
   "source": [
    "{\"components\": {\"display\": \"Components\", \"type\": \"string\", \"required\": False}, \"language\": {\"display\": \"Language\", \"type\": \"string\", \"required\": False}, \"location\": {\"display\": \"Location\", \"type\": \"string\", \"required\": False}, \"locationbias\": {\"display\": \"Locationbias\", \"type\": \"string\", \"required\": False}, \"locationrestriction\": {\"display\": \"Locationrestriction\", \"type\": \"string\", \"required\": False}, \"offset\": {\"display\": \"Offset\", \"type\": \"string\", \"required\": False}, \"origin\": {\"display\": \"Origin\", \"type\": \"string\", \"required\": False}, \"radius\": {\"display\": \"Radius\", \"type\": \"string\", \"required\": False}, \"region\": {\"display\": \"Region\", \"type\": \"string\", \"required\": False}, \"sessiontoken\": {\"display\": \"Sessiontoken\", \"type\": \"string\", \"required\": False}, \"strictbounds\": {\"display\": \"Strictbounds\", \"type\": \"string\", \"required\": False}, \"types\": {\"display\": \"Types\", \"type\": \"string\", \"required\": False}}"
   ]
  }
 ],
 "metadata": {
  "kernelspec": {
   "display_name": "Python 3",
   "language": "python",
   "name": "python3"
  },
  "language_info": {
   "codemirror_mode": {
    "name": "ipython",
    "version": 3
   },
   "file_extension": ".py",
   "mimetype": "text/x-python",
   "name": "python",
   "nbconvert_exporter": "python",
   "pygments_lexer": "ipython3",
   "version": "3.10.13"
  }
 },
 "nbformat": 4,
 "nbformat_minor": 2
}
